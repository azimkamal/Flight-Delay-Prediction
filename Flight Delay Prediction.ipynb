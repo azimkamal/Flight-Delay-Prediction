{
 "cells": [
  {
   "cell_type": "markdown",
   "metadata": {},
   "source": [
    "## Flight Delay Prediction"
   ]
  },
  {
   "cell_type": "markdown",
   "metadata": {},
   "source": [
    "# Initial Questions\n",
    "1. Is it possible to use machine learning to predict flight delay?\n",
    "2. Is there any correlation between flight informations and the probability of the flight being delayed?"
   ]
  },
  {
   "cell_type": "markdown",
   "metadata": {},
   "source": [
    "## Dataset"
   ]
  },
  {
   "cell_type": "markdown",
   "metadata": {},
   "source": [
    "In this project, I used a historical data, which contains information from over 500,000 domestic flights on January 2018 in the United States. The dataset can be retrieved from https://www.transtats.bts.gov/DL_SelectFields.asp?Table_ID=236&DB_Short_Name=On-Time"
   ]
  },
  {
   "cell_type": "markdown",
   "metadata": {},
   "source": [
    "## Motivation\n",
    "\n",
    "When it comes to travelling, people are so excited and get thrilled about what they are going to experience during their journey. Therefore, a lot of travel arrangement has been made such as choosing the best hotel for the best view of the city, opt for the preferred airline and select for the preferred seat in order to get full comfort of travel experience. \n",
    "\n",
    "However, things went differently when you reached the airport, you end up being informed that **your aircraft has been delayed**, forcing the airline to deploy another aircraft. This means you lost your preferred seat and part of your planning has been deferred due to the late departure.\n",
    "\n",
    "#### Imagine that what would it be if all of these things can be predicted and you are being informed for the travel delay when you checked in? \n",
    "\n",
    "#### For Passengers:\n",
    "- Have more time to request for flight delay compensation or renegotiate with the airline and also reschedule their travel arrangement\n",
    "\n",
    "#### For Airlines:\n",
    "- Capable of optimizing flight operations and minimize delays for better usability of aircraft and better revenue generation\n",
    "\n",
    "#### For Airport Operators:\n",
    "- Have better insight on what aircraft should be prepared and which landing slot available for the delayed aircraft which leads to smooth airport operation"
   ]
  },
  {
   "cell_type": "markdown",
   "metadata": {},
   "source": [
    "# Data Cleaning"
   ]
  },
  {
   "cell_type": "markdown",
   "metadata": {},
   "source": [
    "I start the project with importing the necessary libraries  to the environment:\n",
    "- **Pandas** for data manipulation and processing\n",
    "- **NumPy** for working with numbers, calculations and arrays\n",
    "- **Seaborn** and **Matplotlib** for graphical visualisations\n",
    "- **missingno** for visualizing the missing values\n",
    "- **sklearn** for machine learning modelling"
   ]
  },
  {
   "cell_type": "code",
   "execution_count": 369,
   "metadata": {},
   "outputs": [],
   "source": [
    "#Importing relevant libraries\n",
    "import pandas as pd\n",
    "import missingno as msno\n",
    "\n",
    "\n",
    "import numpy as np\n",
    "import seaborn as sns \n",
    "import matplotlib.pyplot as plt "
   ]
  },
  {
   "cell_type": "code",
   "execution_count": 370,
   "metadata": {},
   "outputs": [
    {
     "data": {
      "text/html": [
       "<div>\n",
       "<style scoped>\n",
       "    .dataframe tbody tr th:only-of-type {\n",
       "        vertical-align: middle;\n",
       "    }\n",
       "\n",
       "    .dataframe tbody tr th {\n",
       "        vertical-align: top;\n",
       "    }\n",
       "\n",
       "    .dataframe thead th {\n",
       "        text-align: right;\n",
       "    }\n",
       "</style>\n",
       "<table border=\"1\" class=\"dataframe\">\n",
       "  <thead>\n",
       "    <tr style=\"text-align: right;\">\n",
       "      <th></th>\n",
       "      <th>YEAR</th>\n",
       "      <th>MONTH</th>\n",
       "      <th>DAY_OF_MONTH</th>\n",
       "      <th>DAY_OF_WEEK</th>\n",
       "      <th>FL_DATE</th>\n",
       "      <th>OP_UNIQUE_CARRIER</th>\n",
       "      <th>OP_CARRIER_AIRLINE_ID</th>\n",
       "      <th>OP_CARRIER</th>\n",
       "      <th>TAIL_NUM</th>\n",
       "      <th>OP_CARRIER_FL_NUM</th>\n",
       "      <th>...</th>\n",
       "      <th>DIV4_TAIL_NUM</th>\n",
       "      <th>DIV5_AIRPORT</th>\n",
       "      <th>DIV5_AIRPORT_ID</th>\n",
       "      <th>DIV5_AIRPORT_SEQ_ID</th>\n",
       "      <th>DIV5_WHEELS_ON</th>\n",
       "      <th>DIV5_TOTAL_GTIME</th>\n",
       "      <th>DIV5_LONGEST_GTIME</th>\n",
       "      <th>DIV5_WHEELS_OFF</th>\n",
       "      <th>DIV5_TAIL_NUM</th>\n",
       "      <th>Unnamed: 108</th>\n",
       "    </tr>\n",
       "  </thead>\n",
       "  <tbody>\n",
       "    <tr>\n",
       "      <th>0</th>\n",
       "      <td>2018</td>\n",
       "      <td>1</td>\n",
       "      <td>14</td>\n",
       "      <td>7</td>\n",
       "      <td>2018-01-14</td>\n",
       "      <td>9E</td>\n",
       "      <td>20363</td>\n",
       "      <td>9E</td>\n",
       "      <td>N279PQ</td>\n",
       "      <td>3468</td>\n",
       "      <td>...</td>\n",
       "      <td>NaN</td>\n",
       "      <td>NaN</td>\n",
       "      <td>NaN</td>\n",
       "      <td>NaN</td>\n",
       "      <td>NaN</td>\n",
       "      <td>NaN</td>\n",
       "      <td>NaN</td>\n",
       "      <td>NaN</td>\n",
       "      <td>NaN</td>\n",
       "      <td>NaN</td>\n",
       "    </tr>\n",
       "    <tr>\n",
       "      <th>1</th>\n",
       "      <td>2018</td>\n",
       "      <td>1</td>\n",
       "      <td>3</td>\n",
       "      <td>3</td>\n",
       "      <td>2018-01-03</td>\n",
       "      <td>9E</td>\n",
       "      <td>20363</td>\n",
       "      <td>9E</td>\n",
       "      <td>N8928A</td>\n",
       "      <td>3468</td>\n",
       "      <td>...</td>\n",
       "      <td>NaN</td>\n",
       "      <td>NaN</td>\n",
       "      <td>NaN</td>\n",
       "      <td>NaN</td>\n",
       "      <td>NaN</td>\n",
       "      <td>NaN</td>\n",
       "      <td>NaN</td>\n",
       "      <td>NaN</td>\n",
       "      <td>NaN</td>\n",
       "      <td>NaN</td>\n",
       "    </tr>\n",
       "    <tr>\n",
       "      <th>2</th>\n",
       "      <td>2018</td>\n",
       "      <td>1</td>\n",
       "      <td>6</td>\n",
       "      <td>6</td>\n",
       "      <td>2018-01-06</td>\n",
       "      <td>9E</td>\n",
       "      <td>20363</td>\n",
       "      <td>9E</td>\n",
       "      <td>N8986B</td>\n",
       "      <td>3468</td>\n",
       "      <td>...</td>\n",
       "      <td>NaN</td>\n",
       "      <td>NaN</td>\n",
       "      <td>NaN</td>\n",
       "      <td>NaN</td>\n",
       "      <td>NaN</td>\n",
       "      <td>NaN</td>\n",
       "      <td>NaN</td>\n",
       "      <td>NaN</td>\n",
       "      <td>NaN</td>\n",
       "      <td>NaN</td>\n",
       "    </tr>\n",
       "    <tr>\n",
       "      <th>3</th>\n",
       "      <td>2018</td>\n",
       "      <td>1</td>\n",
       "      <td>7</td>\n",
       "      <td>7</td>\n",
       "      <td>2018-01-07</td>\n",
       "      <td>9E</td>\n",
       "      <td>20363</td>\n",
       "      <td>9E</td>\n",
       "      <td>N8986B</td>\n",
       "      <td>3468</td>\n",
       "      <td>...</td>\n",
       "      <td>NaN</td>\n",
       "      <td>NaN</td>\n",
       "      <td>NaN</td>\n",
       "      <td>NaN</td>\n",
       "      <td>NaN</td>\n",
       "      <td>NaN</td>\n",
       "      <td>NaN</td>\n",
       "      <td>NaN</td>\n",
       "      <td>NaN</td>\n",
       "      <td>NaN</td>\n",
       "    </tr>\n",
       "    <tr>\n",
       "      <th>4</th>\n",
       "      <td>2018</td>\n",
       "      <td>1</td>\n",
       "      <td>8</td>\n",
       "      <td>1</td>\n",
       "      <td>2018-01-08</td>\n",
       "      <td>9E</td>\n",
       "      <td>20363</td>\n",
       "      <td>9E</td>\n",
       "      <td>N8918B</td>\n",
       "      <td>3468</td>\n",
       "      <td>...</td>\n",
       "      <td>NaN</td>\n",
       "      <td>NaN</td>\n",
       "      <td>NaN</td>\n",
       "      <td>NaN</td>\n",
       "      <td>NaN</td>\n",
       "      <td>NaN</td>\n",
       "      <td>NaN</td>\n",
       "      <td>NaN</td>\n",
       "      <td>NaN</td>\n",
       "      <td>NaN</td>\n",
       "    </tr>\n",
       "  </tbody>\n",
       "</table>\n",
       "<p>5 rows × 109 columns</p>\n",
       "</div>"
      ],
      "text/plain": [
       "   YEAR  MONTH  DAY_OF_MONTH  DAY_OF_WEEK     FL_DATE OP_UNIQUE_CARRIER  \\\n",
       "0  2018      1            14            7  2018-01-14                9E   \n",
       "1  2018      1             3            3  2018-01-03                9E   \n",
       "2  2018      1             6            6  2018-01-06                9E   \n",
       "3  2018      1             7            7  2018-01-07                9E   \n",
       "4  2018      1             8            1  2018-01-08                9E   \n",
       "\n",
       "   OP_CARRIER_AIRLINE_ID OP_CARRIER TAIL_NUM  OP_CARRIER_FL_NUM  ...  \\\n",
       "0                  20363         9E   N279PQ               3468  ...   \n",
       "1                  20363         9E   N8928A               3468  ...   \n",
       "2                  20363         9E   N8986B               3468  ...   \n",
       "3                  20363         9E   N8986B               3468  ...   \n",
       "4                  20363         9E   N8918B               3468  ...   \n",
       "\n",
       "   DIV4_TAIL_NUM  DIV5_AIRPORT  DIV5_AIRPORT_ID DIV5_AIRPORT_SEQ_ID  \\\n",
       "0            NaN           NaN              NaN                 NaN   \n",
       "1            NaN           NaN              NaN                 NaN   \n",
       "2            NaN           NaN              NaN                 NaN   \n",
       "3            NaN           NaN              NaN                 NaN   \n",
       "4            NaN           NaN              NaN                 NaN   \n",
       "\n",
       "  DIV5_WHEELS_ON DIV5_TOTAL_GTIME  DIV5_LONGEST_GTIME DIV5_WHEELS_OFF  \\\n",
       "0            NaN              NaN                 NaN             NaN   \n",
       "1            NaN              NaN                 NaN             NaN   \n",
       "2            NaN              NaN                 NaN             NaN   \n",
       "3            NaN              NaN                 NaN             NaN   \n",
       "4            NaN              NaN                 NaN             NaN   \n",
       "\n",
       "   DIV5_TAIL_NUM  Unnamed: 108  \n",
       "0            NaN           NaN  \n",
       "1            NaN           NaN  \n",
       "2            NaN           NaN  \n",
       "3            NaN           NaN  \n",
       "4            NaN           NaN  \n",
       "\n",
       "[5 rows x 109 columns]"
      ]
     },
     "metadata": {},
     "output_type": "display_data"
    },
    {
     "data": {
      "text/plain": [
       "570118"
      ]
     },
     "execution_count": 370,
     "metadata": {},
     "output_type": "execute_result"
    }
   ],
   "source": [
    "# Import January 2018 dataset for training \n",
    "df = pd.read_csv(\"Jan18.csv\", low_memory=False)\n",
    "display(df.head())\n",
    "len(df) #Check the number of rows"
   ]
  },
  {
   "cell_type": "code",
   "execution_count": 371,
   "metadata": {},
   "outputs": [
    {
     "data": {
      "text/plain": [
       "Index(['YEAR', 'MONTH', 'DAY_OF_MONTH', 'DAY_OF_WEEK', 'FL_DATE',\n",
       "       'OP_UNIQUE_CARRIER', 'OP_CARRIER_AIRLINE_ID', 'OP_CARRIER', 'TAIL_NUM',\n",
       "       'OP_CARRIER_FL_NUM',\n",
       "       ...\n",
       "       'DIV4_TAIL_NUM', 'DIV5_AIRPORT', 'DIV5_AIRPORT_ID',\n",
       "       'DIV5_AIRPORT_SEQ_ID', 'DIV5_WHEELS_ON', 'DIV5_TOTAL_GTIME',\n",
       "       'DIV5_LONGEST_GTIME', 'DIV5_WHEELS_OFF', 'DIV5_TAIL_NUM',\n",
       "       'Unnamed: 108'],\n",
       "      dtype='object', length=109)"
      ]
     },
     "execution_count": 371,
     "metadata": {},
     "output_type": "execute_result"
    }
   ],
   "source": [
    "#Check number of columns\n",
    "df.columns"
   ]
  },
  {
   "cell_type": "code",
   "execution_count": 372,
   "metadata": {},
   "outputs": [
    {
     "data": {
      "text/plain": [
       "YEAR                       0\n",
       "MONTH                      0\n",
       "DAY_OF_MONTH               0\n",
       "DAY_OF_WEEK                0\n",
       "FL_DATE                    0\n",
       "                       ...  \n",
       "DIV5_TOTAL_GTIME      570118\n",
       "DIV5_LONGEST_GTIME    570118\n",
       "DIV5_WHEELS_OFF       570118\n",
       "DIV5_TAIL_NUM         570118\n",
       "Unnamed: 108          570118\n",
       "Length: 109, dtype: int64"
      ]
     },
     "execution_count": 372,
     "metadata": {},
     "output_type": "execute_result"
    }
   ],
   "source": [
    "#Check for  missing values\n",
    "df.isnull().sum()"
   ]
  },
  {
   "cell_type": "markdown",
   "metadata": {},
   "source": [
    "Since some attributes have the numbers of missing values that is equal to the number of rows available, it is make sense to remove all columns that contain with all missing value"
   ]
  },
  {
   "cell_type": "code",
   "execution_count": 373,
   "metadata": {},
   "outputs": [
    {
     "data": {
      "text/plain": [
       "YEAR                       0\n",
       "MONTH                      0\n",
       "DAY_OF_MONTH               0\n",
       "DAY_OF_WEEK                0\n",
       "FL_DATE                    0\n",
       "                       ...  \n",
       "DIV2_WHEELS_ON        570089\n",
       "DIV2_TOTAL_GTIME      570089\n",
       "DIV2_LONGEST_GTIME    570089\n",
       "DIV2_WHEELS_OFF       570109\n",
       "DIV2_TAIL_NUM         570109\n",
       "Length: 84, dtype: int64"
      ]
     },
     "execution_count": 373,
     "metadata": {},
     "output_type": "execute_result"
    }
   ],
   "source": [
    "df= df.dropna(axis=1, how= \"all\") # Remove column with all missing values\n",
    "df.isnull().sum() #Recheck"
   ]
  },
  {
   "cell_type": "markdown",
   "metadata": {},
   "source": [
    "### Selecting Relevant Column\n",
    "\n",
    "Now, I have 84 columns out of 109, therefore I need to identify which attributes are relevant in predicting flight delay based on the research question.  "
   ]
  },
  {
   "cell_type": "code",
   "execution_count": 374,
   "metadata": {},
   "outputs": [
    {
     "name": "stdout",
     "output_type": "stream",
     "text": [
      "<class 'pandas.core.frame.DataFrame'>\n",
      "RangeIndex: 570118 entries, 0 to 570117\n",
      "Data columns (total 32 columns):\n",
      " #   Column                 Non-Null Count   Dtype  \n",
      "---  ------                 --------------   -----  \n",
      " 0   YEAR                   570118 non-null  int64  \n",
      " 1   MONTH                  570118 non-null  int64  \n",
      " 2   DAY_OF_MONTH           570118 non-null  int64  \n",
      " 3   DAY_OF_WEEK            570118 non-null  int64  \n",
      " 4   FL_DATE                570118 non-null  object \n",
      " 5   OP_UNIQUE_CARRIER      570118 non-null  object \n",
      " 6   OP_CARRIER_AIRLINE_ID  570118 non-null  int64  \n",
      " 7   OP_CARRIER             570118 non-null  object \n",
      " 8   TAIL_NUM               568149 non-null  object \n",
      " 9   OP_CARRIER_FL_NUM      570118 non-null  int64  \n",
      " 10  ORIGIN_AIRPORT_ID      570118 non-null  int64  \n",
      " 11  ORIGIN_AIRPORT_SEQ_ID  570118 non-null  int64  \n",
      " 12  ORIGIN                 570118 non-null  object \n",
      " 13  DEST_AIRPORT_ID        570118 non-null  int64  \n",
      " 14  DEST_AIRPORT_SEQ_ID    570118 non-null  int64  \n",
      " 15  DEST                   570118 non-null  object \n",
      " 16  DEP_TIME               553295 non-null  float64\n",
      " 17  DEP_DEL15              552795 non-null  float64\n",
      " 18  DEP_TIME_BLK           570118 non-null  object \n",
      " 19  TAXI_OUT               553055 non-null  float64\n",
      " 20  TAXI_IN                552583 non-null  float64\n",
      " 21  ARR_TIME               552583 non-null  float64\n",
      " 22  ARR_DEL15              551498 non-null  float64\n",
      " 23  CANCELLED              570118 non-null  float64\n",
      " 24  DIVERTED               570118 non-null  float64\n",
      " 25  AIR_TIME               551700 non-null  float64\n",
      " 26  DISTANCE               570118 non-null  float64\n",
      " 27  CARRIER_DELAY          97760 non-null   float64\n",
      " 28  WEATHER_DELAY          97760 non-null   float64\n",
      " 29  NAS_DELAY              97760 non-null   float64\n",
      " 30  SECURITY_DELAY         97760 non-null   float64\n",
      " 31  LATE_AIRCRAFT_DELAY    97760 non-null   float64\n",
      "dtypes: float64(15), int64(10), object(7)\n",
      "memory usage: 139.2+ MB\n"
     ]
    }
   ],
   "source": [
    "#Selecting relevant columns for our project to 32 columns\n",
    "df = df.iloc[:,[0,1,2,3,4,5,6,7,8,9,10,11,13,19,20,22,29,32,34,35,38,40,43,46,48,51,53,55,56,57,58,59]]\n",
    "df.info()"
   ]
  },
  {
   "cell_type": "markdown",
   "metadata": {},
   "source": [
    "### Filtering Relevant Columns and Removing All Redundant Features\n",
    "\n",
    "First, I check whether **FL_DATE** is equal to **DAY_OF MONTH, MONTH and YEAR** by introducing new column named **DATE** combining DAY_OF MONTH, MONTH and YEAR and change to datetime format.\n",
    "\n",
    "Then, I change FL_DATE to datetime format and compare it with DATE. The same procedures are adapted to OP_UNIQUE_CARRIER and OP_CARRIER. "
   ]
  },
  {
   "cell_type": "code",
   "execution_count": 375,
   "metadata": {},
   "outputs": [
    {
     "name": "stdout",
     "output_type": "stream",
     "text": [
      "FL_DATE == DATE:  [ True]\n",
      "OP_UNIQUE_CARRIER == OP_CARRIER:  [ True]\n"
     ]
    }
   ],
   "source": [
    "#Check whether FL_DATE is equal to DAY_OF MONTH, MONTH and YEAR.\n",
    "df =df.rename(columns={'DAY_OF_MONTH': 'DAY'})\n",
    "df[\"DATE\"]=pd.to_datetime(df[['YEAR','MONTH', 'DAY']])\n",
    "#Change FL_DATE to datetime format and compare it with DATE\n",
    "df[\"FL_DATE\"] =  pd.to_datetime(df[\"FL_DATE\"])\n",
    "s = df[\"FL_DATE\"]== df[\"DATE\"]\n",
    "print(\"FL_DATE == DATE: \", s.unique())\n",
    "\n",
    "#Check whether OP_UNIQUE_CARRIER is equal to OP_CARRIER\n",
    "t = df[\"OP_UNIQUE_CARRIER\"]== df[\"OP_CARRIER\"]\n",
    "print(\"OP_UNIQUE_CARRIER == OP_CARRIER: \", t.unique())"
   ]
  },
  {
   "cell_type": "markdown",
   "metadata": {},
   "source": [
    "Since they are redundant atrributes, now I can drop **FL_DATE, DATE** and **OP_CARRIER**, leaving only **DAY_OF MONTH, MONTH and YEAR**."
   ]
  },
  {
   "cell_type": "code",
   "execution_count": 376,
   "metadata": {},
   "outputs": [
    {
     "data": {
      "text/html": [
       "<div>\n",
       "<style scoped>\n",
       "    .dataframe tbody tr th:only-of-type {\n",
       "        vertical-align: middle;\n",
       "    }\n",
       "\n",
       "    .dataframe tbody tr th {\n",
       "        vertical-align: top;\n",
       "    }\n",
       "\n",
       "    .dataframe thead th {\n",
       "        text-align: right;\n",
       "    }\n",
       "</style>\n",
       "<table border=\"1\" class=\"dataframe\">\n",
       "  <thead>\n",
       "    <tr style=\"text-align: right;\">\n",
       "      <th></th>\n",
       "      <th>MONTH</th>\n",
       "      <th>DAY</th>\n",
       "      <th>DAY_OF_WEEK</th>\n",
       "      <th>OP_UNIQUE_CARRIER</th>\n",
       "      <th>OP_CARRIER_AIRLINE_ID</th>\n",
       "      <th>TAIL_NUM</th>\n",
       "      <th>OP_CARRIER_FL_NUM</th>\n",
       "      <th>ORIGIN_AIRPORT_ID</th>\n",
       "      <th>ORIGIN_AIRPORT_SEQ_ID</th>\n",
       "      <th>ORIGIN</th>\n",
       "      <th>...</th>\n",
       "      <th>ARR_DEL15</th>\n",
       "      <th>CANCELLED</th>\n",
       "      <th>DIVERTED</th>\n",
       "      <th>AIR_TIME</th>\n",
       "      <th>DISTANCE</th>\n",
       "      <th>CARRIER_DELAY</th>\n",
       "      <th>WEATHER_DELAY</th>\n",
       "      <th>NAS_DELAY</th>\n",
       "      <th>SECURITY_DELAY</th>\n",
       "      <th>LATE_AIRCRAFT_DELAY</th>\n",
       "    </tr>\n",
       "  </thead>\n",
       "  <tbody>\n",
       "    <tr>\n",
       "      <th>0</th>\n",
       "      <td>1</td>\n",
       "      <td>14</td>\n",
       "      <td>7</td>\n",
       "      <td>9E</td>\n",
       "      <td>20363</td>\n",
       "      <td>N279PQ</td>\n",
       "      <td>3468</td>\n",
       "      <td>15096</td>\n",
       "      <td>1509602</td>\n",
       "      <td>SYR</td>\n",
       "      <td>...</td>\n",
       "      <td>NaN</td>\n",
       "      <td>1.0</td>\n",
       "      <td>0.0</td>\n",
       "      <td>NaN</td>\n",
       "      <td>374.0</td>\n",
       "      <td>NaN</td>\n",
       "      <td>NaN</td>\n",
       "      <td>NaN</td>\n",
       "      <td>NaN</td>\n",
       "      <td>NaN</td>\n",
       "    </tr>\n",
       "    <tr>\n",
       "      <th>1</th>\n",
       "      <td>1</td>\n",
       "      <td>3</td>\n",
       "      <td>3</td>\n",
       "      <td>9E</td>\n",
       "      <td>20363</td>\n",
       "      <td>N8928A</td>\n",
       "      <td>3468</td>\n",
       "      <td>15096</td>\n",
       "      <td>1509602</td>\n",
       "      <td>SYR</td>\n",
       "      <td>...</td>\n",
       "      <td>0.0</td>\n",
       "      <td>0.0</td>\n",
       "      <td>0.0</td>\n",
       "      <td>42.0</td>\n",
       "      <td>198.0</td>\n",
       "      <td>NaN</td>\n",
       "      <td>NaN</td>\n",
       "      <td>NaN</td>\n",
       "      <td>NaN</td>\n",
       "      <td>NaN</td>\n",
       "    </tr>\n",
       "  </tbody>\n",
       "</table>\n",
       "<p>2 rows × 29 columns</p>\n",
       "</div>"
      ],
      "text/plain": [
       "   MONTH  DAY  DAY_OF_WEEK OP_UNIQUE_CARRIER  OP_CARRIER_AIRLINE_ID TAIL_NUM  \\\n",
       "0      1   14            7                9E                  20363   N279PQ   \n",
       "1      1    3            3                9E                  20363   N8928A   \n",
       "\n",
       "   OP_CARRIER_FL_NUM  ORIGIN_AIRPORT_ID  ORIGIN_AIRPORT_SEQ_ID ORIGIN  ...  \\\n",
       "0               3468              15096                1509602    SYR  ...   \n",
       "1               3468              15096                1509602    SYR  ...   \n",
       "\n",
       "   ARR_DEL15  CANCELLED DIVERTED  AIR_TIME  DISTANCE CARRIER_DELAY  \\\n",
       "0        NaN        1.0      0.0       NaN     374.0           NaN   \n",
       "1        0.0        0.0      0.0      42.0     198.0           NaN   \n",
       "\n",
       "   WEATHER_DELAY  NAS_DELAY  SECURITY_DELAY  LATE_AIRCRAFT_DELAY  \n",
       "0            NaN        NaN             NaN                  NaN  \n",
       "1            NaN        NaN             NaN                  NaN  \n",
       "\n",
       "[2 rows x 29 columns]"
      ]
     },
     "execution_count": 376,
     "metadata": {},
     "output_type": "execute_result"
    }
   ],
   "source": [
    "df=df.drop([\"YEAR\", \"FL_DATE\", \"DATE\", \"OP_CARRIER\"], axis=1)\n",
    "df.head(2)"
   ]
  },
  {
   "cell_type": "markdown",
   "metadata": {},
   "source": [
    "Now, I explore other redundant features:\n",
    "\n",
    "1. **ORIGIN_AIRPORT_ID** and **ORIGIN_AIRPORT_SEQ_ID**. \n",
    "2. **DEST_AIRPORT_ID** and **DEST_AIRPORT_SEQ_ID**. \n",
    "3. **CANCELLED** and **DIVERTED** can be dropped since it is not a part of delayed in our case.\n",
    "4. **TAXI IN** and **TAXI OUT** also can be dropped.\n",
    "5. **ARR_DEL15** and **ARR_TIME** can be dropped since I only concerns with **DEP_DEL15** (Departure Delay).\n",
    "6. **WEATHER_DELAY, NAS_DELAY, SECURITY_DELAY, LATE_AIRCRAFT_DELAY, CARRIER_DELAY** and **AIR_TIME** - Since I'm focusing on the flight delay data, and not the causation of flight delay,all information regarding the causation of flight delays will be dropped.\n",
    "    \n",
    "    "
   ]
  },
  {
   "cell_type": "code",
   "execution_count": 377,
   "metadata": {},
   "outputs": [
    {
     "name": "stdout",
     "output_type": "stream",
     "text": [
      "<class 'pandas.core.frame.DataFrame'>\n",
      "RangeIndex: 570118 entries, 0 to 570117\n",
      "Data columns (total 15 columns):\n",
      " #   Column                 Non-Null Count   Dtype  \n",
      "---  ------                 --------------   -----  \n",
      " 0   MONTH                  570118 non-null  int64  \n",
      " 1   DAY                    570118 non-null  int64  \n",
      " 2   DAY_OF_WEEK            570118 non-null  int64  \n",
      " 3   OP_UNIQUE_CARRIER      570118 non-null  object \n",
      " 4   OP_CARRIER_AIRLINE_ID  570118 non-null  int64  \n",
      " 5   TAIL_NUM               568149 non-null  object \n",
      " 6   OP_CARRIER_FL_NUM      570118 non-null  int64  \n",
      " 7   ORIGIN_AIRPORT_ID      570118 non-null  int64  \n",
      " 8   ORIGIN                 570118 non-null  object \n",
      " 9   DEST_AIRPORT_ID        570118 non-null  int64  \n",
      " 10  DEST                   570118 non-null  object \n",
      " 11  DEP_TIME               553295 non-null  float64\n",
      " 12  DEP_DEL15              552795 non-null  float64\n",
      " 13  DEP_TIME_BLK           570118 non-null  object \n",
      " 14  DISTANCE               570118 non-null  float64\n",
      "dtypes: float64(3), int64(7), object(5)\n",
      "memory usage: 65.2+ MB\n"
     ]
    }
   ],
   "source": [
    "df= df.drop([\"ORIGIN_AIRPORT_SEQ_ID\", \"DEST_AIRPORT_SEQ_ID\", \"CANCELLED\", \"DIVERTED\", \n",
    "             \"TAXI_IN\", \"TAXI_OUT\", \"ARR_TIME\", \"ARR_DEL15\", \"WEATHER_DELAY\", \"NAS_DELAY\", \"SECURITY_DELAY\", \n",
    "             \"LATE_AIRCRAFT_DELAY\", \"CARRIER_DELAY\", \"AIR_TIME\"], axis=1)\n",
    "df.info()"
   ]
  },
  {
   "cell_type": "markdown",
   "metadata": {},
   "source": [
    "### Visualising the missing values\n",
    "In this part, I first visualise the missing values for all our selected attributes. Then, I sum the number of mising values and calculate the percentage of missing values."
   ]
  },
  {
   "cell_type": "code",
   "execution_count": 378,
   "metadata": {},
   "outputs": [
    {
     "name": "stdout",
     "output_type": "stream",
     "text": [
      "MONTH                        0\n",
      "DAY                          0\n",
      "DAY_OF_WEEK                  0\n",
      "OP_UNIQUE_CARRIER            0\n",
      "OP_CARRIER_AIRLINE_ID        0\n",
      "TAIL_NUM                  1969\n",
      "OP_CARRIER_FL_NUM            0\n",
      "ORIGIN_AIRPORT_ID            0\n",
      "ORIGIN                       0\n",
      "DEST_AIRPORT_ID              0\n",
      "DEST                         0\n",
      "DEP_TIME                 16823\n",
      "DEP_DEL15                17323\n",
      "DEP_TIME_BLK                 0\n",
      "DISTANCE                     0\n",
      "dtype: int64\n"
     ]
    },
    {
     "data": {
      "text/plain": [
       "<matplotlib.axes._subplots.AxesSubplot at 0x7fc74f775a00>"
      ]
     },
     "execution_count": 378,
     "metadata": {},
     "output_type": "execute_result"
    },
    {
     "data": {
      "image/png": "[encoded data removed]",
      "text/plain": [
       "<Figure size 1800x720 with 2 Axes>"
      ]
     },
     "metadata": {
      "needs_background": "light"
     },
     "output_type": "display_data"
    }
   ],
   "source": [
    "#To visualise missing data\n",
    "print(df.isnull().sum())\n",
    "msno.matrix(df)"
   ]
  },
  {
   "cell_type": "markdown",
   "metadata": {},
   "source": [
    "### Dealing with missing values\n",
    "\n",
    "As you can see, I have 3 attributes with missing values. In my opinion, for attributes such as tail number, the missing values are impossible to be imputed. \n",
    "\n",
    "To deal with it, I try to check whether the missing values are coming from the same rows or not.\n",
    "\n",
    "\n"
   ]
  },
  {
   "cell_type": "code",
   "execution_count": 379,
   "metadata": {},
   "outputs": [
    {
     "data": {
      "text/html": [
       "<div>\n",
       "<style scoped>\n",
       "    .dataframe tbody tr th:only-of-type {\n",
       "        vertical-align: middle;\n",
       "    }\n",
       "\n",
       "    .dataframe tbody tr th {\n",
       "        vertical-align: top;\n",
       "    }\n",
       "\n",
       "    .dataframe thead th {\n",
       "        text-align: right;\n",
       "    }\n",
       "</style>\n",
       "<table border=\"1\" class=\"dataframe\">\n",
       "  <thead>\n",
       "    <tr style=\"text-align: right;\">\n",
       "      <th></th>\n",
       "      <th>DEP_DEL15</th>\n",
       "      <th>DEP_TIME</th>\n",
       "      <th>TAIL_NUM</th>\n",
       "    </tr>\n",
       "  </thead>\n",
       "  <tbody>\n",
       "    <tr>\n",
       "      <th>0</th>\n",
       "      <td>NaN</td>\n",
       "      <td>NaN</td>\n",
       "      <td>N279PQ</td>\n",
       "    </tr>\n",
       "    <tr>\n",
       "      <th>20</th>\n",
       "      <td>NaN</td>\n",
       "      <td>1358.0</td>\n",
       "      <td>N836AY</td>\n",
       "    </tr>\n",
       "    <tr>\n",
       "      <th>21</th>\n",
       "      <td>NaN</td>\n",
       "      <td>1358.0</td>\n",
       "      <td>N820AY</td>\n",
       "    </tr>\n",
       "    <tr>\n",
       "      <th>29</th>\n",
       "      <td>NaN</td>\n",
       "      <td>NaN</td>\n",
       "      <td>N8837B</td>\n",
       "    </tr>\n",
       "    <tr>\n",
       "      <th>30</th>\n",
       "      <td>NaN</td>\n",
       "      <td>NaN</td>\n",
       "      <td>N8683B</td>\n",
       "    </tr>\n",
       "    <tr>\n",
       "      <th>...</th>\n",
       "      <td>...</td>\n",
       "      <td>...</td>\n",
       "      <td>...</td>\n",
       "    </tr>\n",
       "    <tr>\n",
       "      <th>569792</th>\n",
       "      <td>NaN</td>\n",
       "      <td>NaN</td>\n",
       "      <td>N280AK</td>\n",
       "    </tr>\n",
       "    <tr>\n",
       "      <th>569800</th>\n",
       "      <td>NaN</td>\n",
       "      <td>NaN</td>\n",
       "      <td>N569AS</td>\n",
       "    </tr>\n",
       "    <tr>\n",
       "      <th>569810</th>\n",
       "      <td>NaN</td>\n",
       "      <td>NaN</td>\n",
       "      <td>N569AS</td>\n",
       "    </tr>\n",
       "    <tr>\n",
       "      <th>569826</th>\n",
       "      <td>NaN</td>\n",
       "      <td>NaN</td>\n",
       "      <td>N524AS</td>\n",
       "    </tr>\n",
       "    <tr>\n",
       "      <th>570044</th>\n",
       "      <td>NaN</td>\n",
       "      <td>NaN</td>\n",
       "      <td>N517AS</td>\n",
       "    </tr>\n",
       "  </tbody>\n",
       "</table>\n",
       "<p>17323 rows × 3 columns</p>\n",
       "</div>"
      ],
      "text/plain": [
       "        DEP_DEL15  DEP_TIME TAIL_NUM\n",
       "0             NaN       NaN   N279PQ\n",
       "20            NaN    1358.0   N836AY\n",
       "21            NaN    1358.0   N820AY\n",
       "29            NaN       NaN   N8837B\n",
       "30            NaN       NaN   N8683B\n",
       "...           ...       ...      ...\n",
       "569792        NaN       NaN   N280AK\n",
       "569800        NaN       NaN   N569AS\n",
       "569810        NaN       NaN   N569AS\n",
       "569826        NaN       NaN   N524AS\n",
       "570044        NaN       NaN   N517AS\n",
       "\n",
       "[17323 rows x 3 columns]"
      ]
     },
     "metadata": {},
     "output_type": "display_data"
    },
    {
     "name": "stdout",
     "output_type": "stream",
     "text": [
      "DEP_DEL15    17323\n",
      "DEP_TIME     16823\n",
      "TAIL_NUM      1969\n",
      "dtype: int64\n"
     ]
    }
   ],
   "source": [
    "#Check whether missing values come from the same rows\n",
    "check=df.loc[df[\"DEP_DEL15\"].isnull(), [\"DEP_DEL15\",\"DEP_TIME\", \"TAIL_NUM\"]]\n",
    "display(check)\n",
    "print(check.isnull().sum())"
   ]
  },
  {
   "cell_type": "markdown",
   "metadata": {},
   "source": [
    "It is now confirmed that the rows with missing value of **DEP_DEL15**, have the missing values also for the **DEP_TIME** and also **TAIL_NUM**. \n",
    "\n",
    "Since the missing values are less than 5%, I decided to omit all the rows with missing values and check for the percentage of available data after removing it. Then, visualize with msno to check whether all rows are now cleaned or not. "
   ]
  },
  {
   "cell_type": "code",
   "execution_count": 380,
   "metadata": {},
   "outputs": [
    {
     "name": "stdout",
     "output_type": "stream",
     "text": [
      "MONTH                    0\n",
      "DAY                      0\n",
      "DAY_OF_WEEK              0\n",
      "OP_UNIQUE_CARRIER        0\n",
      "OP_CARRIER_AIRLINE_ID    0\n",
      "TAIL_NUM                 0\n",
      "OP_CARRIER_FL_NUM        0\n",
      "ORIGIN_AIRPORT_ID        0\n",
      "ORIGIN                   0\n",
      "DEST_AIRPORT_ID          0\n",
      "DEST                     0\n",
      "DEP_TIME                 0\n",
      "DEP_DEL15                0\n",
      "DEP_TIME_BLK             0\n",
      "DISTANCE                 0\n",
      "dtype: int64\n"
     ]
    },
    {
     "data": {
      "text/plain": [
       "96.96150621450296"
      ]
     },
     "execution_count": 380,
     "metadata": {},
     "output_type": "execute_result"
    },
    {
     "data": {
      "image/png": "[encoded data removed]",
      "text/plain": [
       "<Figure size 1800x720 with 2 Axes>"
      ]
     },
     "metadata": {
      "needs_background": "light"
     },
     "output_type": "display_data"
    }
   ],
   "source": [
    "df= df.dropna(axis=0,subset=[\"TAIL_NUM\", \"DEP_TIME\", \"DEP_DEL15\"]) \n",
    "print(df.isnull().sum())\n",
    "msno.matrix(df)\n",
    "# Percentage of available rows after dropping rows with missing values\n",
    "(len(df)/570118)*100"
   ]
  },
  {
   "cell_type": "markdown",
   "metadata": {},
   "source": [
    "### Saving the cleaned dataset"
   ]
  },
  {
   "cell_type": "code",
   "execution_count": 381,
   "metadata": {},
   "outputs": [],
   "source": [
    "#Save the cleaned dataset\n",
    "#df.to_csv(\"cleaned_data_jan2018.csv\", index = False)"
   ]
  },
  {
   "cell_type": "markdown",
   "metadata": {},
   "source": [
    "# Exploratory Data Analysis (EDA)"
   ]
  },
  {
   "cell_type": "markdown",
   "metadata": {},
   "source": [
    "EDA starts with importing the cleaned January 2018 dataset. First, I explore the datatype and recheck the cleaned data."
   ]
  },
  {
   "cell_type": "code",
   "execution_count": 382,
   "metadata": {},
   "outputs": [
    {
     "data": {
      "text/plain": [
       "MONTH                      int64\n",
       "DAY                        int64\n",
       "DAY_OF_WEEK                int64\n",
       "OP_UNIQUE_CARRIER         object\n",
       "OP_CARRIER_AIRLINE_ID      int64\n",
       "TAIL_NUM                  object\n",
       "OP_CARRIER_FL_NUM          int64\n",
       "ORIGIN_AIRPORT_ID          int64\n",
       "ORIGIN                    object\n",
       "DEST_AIRPORT_ID            int64\n",
       "DEST                      object\n",
       "DEP_TIME                 float64\n",
       "DEP_DEL15                float64\n",
       "DEP_TIME_BLK              object\n",
       "DISTANCE                 float64\n",
       "dtype: object"
      ]
     },
     "execution_count": 382,
     "metadata": {},
     "output_type": "execute_result"
    }
   ],
   "source": [
    "jan18 = pd.read_csv((\"cleaned_data_jan2018.csv\"), low_memory=False)\n",
    "jan18.dtypes     #Check data type"
   ]
  },
  {
   "cell_type": "code",
   "execution_count": 383,
   "metadata": {},
   "outputs": [
    {
     "data": {
      "text/plain": [
       "False"
      ]
     },
     "execution_count": 383,
     "metadata": {},
     "output_type": "execute_result"
    }
   ],
   "source": [
    "#Checking any null value\n",
    "jan18.isnull().values.any()"
   ]
  },
  {
   "cell_type": "markdown",
   "metadata": {},
   "source": [
    "Then, I build a correlation matrix to see the underlying factors between one attribute to another that contribute to flight delay."
   ]
  },
  {
   "cell_type": "code",
   "execution_count": 384,
   "metadata": {},
   "outputs": [
    {
     "data": {
      "image/png": "[encoded data removed]",
      "text/plain": [
       "<Figure size 1440x1080 with 2 Axes>"
      ]
     },
     "metadata": {
      "needs_background": "light"
     },
     "output_type": "display_data"
    }
   ],
   "source": [
    "#Correlation matrix\n",
    "df18 = jan18\n",
    "corrMatrix = df18.corr()\n",
    "plt.figure(figsize=(20,15))\n",
    "ax=plt.subplot(111)\n",
    "sns.heatmap(corrMatrix,ax=ax, annot=True)\n",
    "plt.show()"
   ]
  },
  {
   "cell_type": "markdown",
   "metadata": {},
   "source": [
    "As **DEP_DEL15** is a targetted variable, I want to see the unique values it can return:\n"
   ]
  },
  {
   "cell_type": "code",
   "execution_count": 385,
   "metadata": {},
   "outputs": [
    {
     "data": {
      "text/plain": [
       "0.0    453644\n",
       "1.0     99151\n",
       "Name: DEP_DEL15, dtype: int64"
      ]
     },
     "execution_count": 385,
     "metadata": {},
     "output_type": "execute_result"
    }
   ],
   "source": [
    "df18['DEP_DEL15'].value_counts()"
   ]
  },
  {
   "cell_type": "code",
   "execution_count": 386,
   "metadata": {},
   "outputs": [
    {
     "data": {
      "text/html": [
       "<div>\n",
       "<style scoped>\n",
       "    .dataframe tbody tr th:only-of-type {\n",
       "        vertical-align: middle;\n",
       "    }\n",
       "\n",
       "    .dataframe tbody tr th {\n",
       "        vertical-align: top;\n",
       "    }\n",
       "\n",
       "    .dataframe thead th {\n",
       "        text-align: right;\n",
       "    }\n",
       "</style>\n",
       "<table border=\"1\" class=\"dataframe\">\n",
       "  <thead>\n",
       "    <tr style=\"text-align: right;\">\n",
       "      <th></th>\n",
       "      <th>MONTH</th>\n",
       "      <th>DAY</th>\n",
       "      <th>DAY_OF_WEEK</th>\n",
       "      <th>OP_CARRIER_AIRLINE_ID</th>\n",
       "      <th>OP_CARRIER_FL_NUM</th>\n",
       "      <th>ORIGIN_AIRPORT_ID</th>\n",
       "      <th>DEST_AIRPORT_ID</th>\n",
       "      <th>DEP_TIME</th>\n",
       "      <th>DEP_DEL15</th>\n",
       "      <th>DISTANCE</th>\n",
       "    </tr>\n",
       "  </thead>\n",
       "  <tbody>\n",
       "    <tr>\n",
       "      <th>count</th>\n",
       "      <td>552795.0</td>\n",
       "      <td>552795.000000</td>\n",
       "      <td>552795.000000</td>\n",
       "      <td>552795.000000</td>\n",
       "      <td>552795.000000</td>\n",
       "      <td>552795.000000</td>\n",
       "      <td>552795.000000</td>\n",
       "      <td>552795.000000</td>\n",
       "      <td>552795.000000</td>\n",
       "      <td>552795.000000</td>\n",
       "    </tr>\n",
       "    <tr>\n",
       "      <th>mean</th>\n",
       "      <td>1.0</td>\n",
       "      <td>16.087414</td>\n",
       "      <td>3.740622</td>\n",
       "      <td>19992.150940</td>\n",
       "      <td>2557.342572</td>\n",
       "      <td>12660.970989</td>\n",
       "      <td>12661.375436</td>\n",
       "      <td>1333.554368</td>\n",
       "      <td>0.179363</td>\n",
       "      <td>797.461337</td>\n",
       "    </tr>\n",
       "    <tr>\n",
       "      <th>std</th>\n",
       "      <td>0.0</td>\n",
       "      <td>8.995561</td>\n",
       "      <td>1.995600</td>\n",
       "      <td>396.822513</td>\n",
       "      <td>1882.338538</td>\n",
       "      <td>1517.905842</td>\n",
       "      <td>1518.067833</td>\n",
       "      <td>495.314692</td>\n",
       "      <td>0.383656</td>\n",
       "      <td>593.569162</td>\n",
       "    </tr>\n",
       "    <tr>\n",
       "      <th>min</th>\n",
       "      <td>1.0</td>\n",
       "      <td>1.000000</td>\n",
       "      <td>1.000000</td>\n",
       "      <td>19393.000000</td>\n",
       "      <td>1.000000</td>\n",
       "      <td>10135.000000</td>\n",
       "      <td>10135.000000</td>\n",
       "      <td>1.000000</td>\n",
       "      <td>0.000000</td>\n",
       "      <td>31.000000</td>\n",
       "    </tr>\n",
       "    <tr>\n",
       "      <th>25%</th>\n",
       "      <td>1.0</td>\n",
       "      <td>8.000000</td>\n",
       "      <td>2.000000</td>\n",
       "      <td>19790.000000</td>\n",
       "      <td>912.000000</td>\n",
       "      <td>11292.000000</td>\n",
       "      <td>11292.000000</td>\n",
       "      <td>922.000000</td>\n",
       "      <td>0.000000</td>\n",
       "      <td>361.000000</td>\n",
       "    </tr>\n",
       "    <tr>\n",
       "      <th>50%</th>\n",
       "      <td>1.0</td>\n",
       "      <td>16.000000</td>\n",
       "      <td>4.000000</td>\n",
       "      <td>19977.000000</td>\n",
       "      <td>2011.000000</td>\n",
       "      <td>12889.000000</td>\n",
       "      <td>12889.000000</td>\n",
       "      <td>1329.000000</td>\n",
       "      <td>0.000000</td>\n",
       "      <td>634.000000</td>\n",
       "    </tr>\n",
       "    <tr>\n",
       "      <th>75%</th>\n",
       "      <td>1.0</td>\n",
       "      <td>24.000000</td>\n",
       "      <td>5.000000</td>\n",
       "      <td>20368.000000</td>\n",
       "      <td>4018.000000</td>\n",
       "      <td>13931.000000</td>\n",
       "      <td>13931.000000</td>\n",
       "      <td>1738.000000</td>\n",
       "      <td>0.000000</td>\n",
       "      <td>1034.000000</td>\n",
       "    </tr>\n",
       "    <tr>\n",
       "      <th>max</th>\n",
       "      <td>1.0</td>\n",
       "      <td>31.000000</td>\n",
       "      <td>7.000000</td>\n",
       "      <td>21171.000000</td>\n",
       "      <td>7439.000000</td>\n",
       "      <td>16218.000000</td>\n",
       "      <td>16218.000000</td>\n",
       "      <td>2400.000000</td>\n",
       "      <td>1.000000</td>\n",
       "      <td>4983.000000</td>\n",
       "    </tr>\n",
       "  </tbody>\n",
       "</table>\n",
       "</div>"
      ],
      "text/plain": [
       "          MONTH            DAY    DAY_OF_WEEK  OP_CARRIER_AIRLINE_ID  \\\n",
       "count  552795.0  552795.000000  552795.000000          552795.000000   \n",
       "mean        1.0      16.087414       3.740622           19992.150940   \n",
       "std         0.0       8.995561       1.995600             396.822513   \n",
       "min         1.0       1.000000       1.000000           19393.000000   \n",
       "25%         1.0       8.000000       2.000000           19790.000000   \n",
       "50%         1.0      16.000000       4.000000           19977.000000   \n",
       "75%         1.0      24.000000       5.000000           20368.000000   \n",
       "max         1.0      31.000000       7.000000           21171.000000   \n",
       "\n",
       "       OP_CARRIER_FL_NUM  ORIGIN_AIRPORT_ID  DEST_AIRPORT_ID       DEP_TIME  \\\n",
       "count      552795.000000      552795.000000    552795.000000  552795.000000   \n",
       "mean         2557.342572       12660.970989     12661.375436    1333.554368   \n",
       "std          1882.338538        1517.905842      1518.067833     495.314692   \n",
       "min             1.000000       10135.000000     10135.000000       1.000000   \n",
       "25%           912.000000       11292.000000     11292.000000     922.000000   \n",
       "50%          2011.000000       12889.000000     12889.000000    1329.000000   \n",
       "75%          4018.000000       13931.000000     13931.000000    1738.000000   \n",
       "max          7439.000000       16218.000000     16218.000000    2400.000000   \n",
       "\n",
       "           DEP_DEL15       DISTANCE  \n",
       "count  552795.000000  552795.000000  \n",
       "mean        0.179363     797.461337  \n",
       "std         0.383656     593.569162  \n",
       "min         0.000000      31.000000  \n",
       "25%         0.000000     361.000000  \n",
       "50%         0.000000     634.000000  \n",
       "75%         0.000000    1034.000000  \n",
       "max         1.000000    4983.000000  "
      ]
     },
     "execution_count": 386,
     "metadata": {},
     "output_type": "execute_result"
    }
   ],
   "source": [
    "#Obtaining the statistical summary\n",
    "df18.describe()"
   ]
  },
  {
   "cell_type": "markdown",
   "metadata": {},
   "source": [
    "Here are the airlines details:\n",
    "\n",
    "|  Airlines Code   | Airline Name | \n",
    "| --- | --- |\n",
    "| WN | Southwest Airlines |\n",
    "| OO | Skywest Airlines |\n",
    "| DL | Delta Airlines |\n",
    "| AA | American Airlines |\n",
    "| B6 | JetBlue Airways |\n",
    "| UA | United Airways |\n",
    "| OH | PSA Airlines |\n",
    "| MQ | Envoy - American Eagles|\n",
    "| YX | Republic Airways |\n",
    "| EV | ExpressJet |\n",
    "| 9E | Endeavor Air |\n",
    "| YV | Mesa Airlines |\n",
    "| F9 | Frontier Airlines |\n",
    "| NK | Spirit Airlines |\n",
    "| G4 | Allegiant Air |\n",
    "| AS | Alaska Airlines |\n",
    "| VX | Virgin America |\n",
    "| HA | Hawaiaan Airlines |\n",
    "\n",
    "\n",
    "\n",
    "\n"
   ]
  },
  {
   "cell_type": "markdown",
   "metadata": {},
   "source": [
    "Next, I want to visualize the on time performance vs departure delay by airlines. I also interested in knowing which Airlines recorded the highest departure delay throughout January 2018:"
   ]
  },
  {
   "cell_type": "code",
   "execution_count": 387,
   "metadata": {},
   "outputs": [
    {
     "data": {
      "text/plain": [
       "<matplotlib.axes._subplots.AxesSubplot at 0x7fc83c5d2c70>"
      ]
     },
     "execution_count": 387,
     "metadata": {},
     "output_type": "execute_result"
    },
    {
     "data": {
      "image/png": "[encoded data removed]",
      "text/plain": [
       "<Figure size 720x432 with 1 Axes>"
      ]
     },
     "metadata": {
      "needs_background": "light"
     },
     "output_type": "display_data"
    }
   ],
   "source": [
    "df18_carr = df18.groupby(['OP_UNIQUE_CARRIER']).DEP_DEL15.value_counts().unstack()\n",
    "df18_carr.sort_values(1, ascending=False).plot(kind='bar', figsize=(10,6))"
   ]
  },
  {
   "cell_type": "markdown",
   "metadata": {},
   "source": [
    "**Conclusion**:The Carrier Airline is ranked based on **DEP_DELAY**. B6 (JetBlue Airways) relatively shows a high delay ratio. Otherwise, the more the flights, the more the delay.\n",
    "\n",
    "WN (Southwest Airlines) recorded the highest departure delay in January 2018."
   ]
  },
  {
   "cell_type": "markdown",
   "metadata": {},
   "source": [
    "Now, I want to see which **DAY_OF_WEEK** and which **DEP_TIME_BLK** has the highest flight departure delay:"
   ]
  },
  {
   "cell_type": "code",
   "execution_count": 388,
   "metadata": {},
   "outputs": [
    {
     "data": {
      "text/plain": [
       "<matplotlib.axes._subplots.AxesSubplot at 0x7fc8359a3430>"
      ]
     },
     "execution_count": 388,
     "metadata": {},
     "output_type": "execute_result"
    },
    {
     "data": {
      "image/png": "[encoded data removed]",
      "text/plain": [
       "<Figure size 720x360 with 1 Axes>"
      ]
     },
     "metadata": {
      "needs_background": "light"
     },
     "output_type": "display_data"
    }
   ],
   "source": [
    "df18_Day = df18.groupby(['DAY_OF_WEEK']).DEP_DEL15.value_counts().unstack()\n",
    "df18_Day.plot(kind='bar', figsize=(10,5))"
   ]
  },
  {
   "cell_type": "code",
   "execution_count": 389,
   "metadata": {},
   "outputs": [
    {
     "data": {
      "text/plain": [
       "<matplotlib.axes._subplots.AxesSubplot at 0x7fc6e10073d0>"
      ]
     },
     "execution_count": 389,
     "metadata": {},
     "output_type": "execute_result"
    },
    {
     "data": {
      "image/png": "[encoded data removed]",
      "text/plain": [
       "<Figure size 864x360 with 1 Axes>"
      ]
     },
     "metadata": {
      "needs_background": "light"
     },
     "output_type": "display_data"
    }
   ],
   "source": [
    "df18_TimeBlk = df18.groupby(['DEP_TIME_BLK']).DEP_DEL15.value_counts().unstack()\n",
    "df18_TimeBlk = df18_TimeBlk.sort_values(1, ascending=False) #Sort descending by DEP_DEL15\n",
    "df18_TimeBlk.plot(kind='bar', figsize=(12,5))"
   ]
  },
  {
   "cell_type": "code",
   "execution_count": 390,
   "metadata": {},
   "outputs": [
    {
     "data": {
      "text/html": [
       "<div>\n",
       "<style scoped>\n",
       "    .dataframe tbody tr th:only-of-type {\n",
       "        vertical-align: middle;\n",
       "    }\n",
       "\n",
       "    .dataframe tbody tr th {\n",
       "        vertical-align: top;\n",
       "    }\n",
       "\n",
       "    .dataframe thead th {\n",
       "        text-align: right;\n",
       "    }\n",
       "</style>\n",
       "<table border=\"1\" class=\"dataframe\">\n",
       "  <thead>\n",
       "    <tr style=\"text-align: right;\">\n",
       "      <th>DEP_DEL15</th>\n",
       "      <th>0.0</th>\n",
       "      <th>1.0</th>\n",
       "      <th>ratio</th>\n",
       "    </tr>\n",
       "    <tr>\n",
       "      <th>DEP_TIME_BLK</th>\n",
       "      <th></th>\n",
       "      <th></th>\n",
       "      <th></th>\n",
       "    </tr>\n",
       "  </thead>\n",
       "  <tbody>\n",
       "    <tr>\n",
       "      <th>1900-1959</th>\n",
       "      <td>22785</td>\n",
       "      <td>7110</td>\n",
       "      <td>0.312047</td>\n",
       "    </tr>\n",
       "    <tr>\n",
       "      <th>1800-1859</th>\n",
       "      <td>24364</td>\n",
       "      <td>7490</td>\n",
       "      <td>0.307421</td>\n",
       "    </tr>\n",
       "    <tr>\n",
       "      <th>1700-1759</th>\n",
       "      <td>28147</td>\n",
       "      <td>8577</td>\n",
       "      <td>0.304722</td>\n",
       "    </tr>\n",
       "    <tr>\n",
       "      <th>2000-2059</th>\n",
       "      <td>19502</td>\n",
       "      <td>5849</td>\n",
       "      <td>0.299918</td>\n",
       "    </tr>\n",
       "    <tr>\n",
       "      <th>2100-2159</th>\n",
       "      <td>12688</td>\n",
       "      <td>3516</td>\n",
       "      <td>0.277112</td>\n",
       "    </tr>\n",
       "    <tr>\n",
       "      <th>1600-1659</th>\n",
       "      <td>25857</td>\n",
       "      <td>7103</td>\n",
       "      <td>0.274703</td>\n",
       "    </tr>\n",
       "    <tr>\n",
       "      <th>1500-1559</th>\n",
       "      <td>27028</td>\n",
       "      <td>7153</td>\n",
       "      <td>0.264651</td>\n",
       "    </tr>\n",
       "    <tr>\n",
       "      <th>1400-1459</th>\n",
       "      <td>25699</td>\n",
       "      <td>6510</td>\n",
       "      <td>0.253317</td>\n",
       "    </tr>\n",
       "    <tr>\n",
       "      <th>1300-1359</th>\n",
       "      <td>25697</td>\n",
       "      <td>6365</td>\n",
       "      <td>0.247694</td>\n",
       "    </tr>\n",
       "    <tr>\n",
       "      <th>1200-1259</th>\n",
       "      <td>29019</td>\n",
       "      <td>6622</td>\n",
       "      <td>0.228195</td>\n",
       "    </tr>\n",
       "    <tr>\n",
       "      <th>2200-2259</th>\n",
       "      <td>10814</td>\n",
       "      <td>2422</td>\n",
       "      <td>0.223969</td>\n",
       "    </tr>\n",
       "    <tr>\n",
       "      <th>1000-1059</th>\n",
       "      <td>27233</td>\n",
       "      <td>5801</td>\n",
       "      <td>0.213014</td>\n",
       "    </tr>\n",
       "    <tr>\n",
       "      <th>1100-1159</th>\n",
       "      <td>28840</td>\n",
       "      <td>6112</td>\n",
       "      <td>0.211928</td>\n",
       "    </tr>\n",
       "    <tr>\n",
       "      <th>2300-2359</th>\n",
       "      <td>2922</td>\n",
       "      <td>498</td>\n",
       "      <td>0.170431</td>\n",
       "    </tr>\n",
       "    <tr>\n",
       "      <th>0900-0959</th>\n",
       "      <td>28077</td>\n",
       "      <td>4736</td>\n",
       "      <td>0.168679</td>\n",
       "    </tr>\n",
       "    <tr>\n",
       "      <th>0800-0859</th>\n",
       "      <td>32037</td>\n",
       "      <td>4922</td>\n",
       "      <td>0.153635</td>\n",
       "    </tr>\n",
       "    <tr>\n",
       "      <th>0700-0759</th>\n",
       "      <td>33577</td>\n",
       "      <td>3933</td>\n",
       "      <td>0.117134</td>\n",
       "    </tr>\n",
       "    <tr>\n",
       "      <th>0600-0659</th>\n",
       "      <td>36145</td>\n",
       "      <td>3256</td>\n",
       "      <td>0.090082</td>\n",
       "    </tr>\n",
       "    <tr>\n",
       "      <th>0001-0559</th>\n",
       "      <td>13213</td>\n",
       "      <td>1176</td>\n",
       "      <td>0.089003</td>\n",
       "    </tr>\n",
       "  </tbody>\n",
       "</table>\n",
       "</div>"
      ],
      "text/plain": [
       "DEP_DEL15       0.0   1.0     ratio\n",
       "DEP_TIME_BLK                       \n",
       "1900-1959     22785  7110  0.312047\n",
       "1800-1859     24364  7490  0.307421\n",
       "1700-1759     28147  8577  0.304722\n",
       "2000-2059     19502  5849  0.299918\n",
       "2100-2159     12688  3516  0.277112\n",
       "1600-1659     25857  7103  0.274703\n",
       "1500-1559     27028  7153  0.264651\n",
       "1400-1459     25699  6510  0.253317\n",
       "1300-1359     25697  6365  0.247694\n",
       "1200-1259     29019  6622  0.228195\n",
       "2200-2259     10814  2422  0.223969\n",
       "1000-1059     27233  5801  0.213014\n",
       "1100-1159     28840  6112  0.211928\n",
       "2300-2359      2922   498  0.170431\n",
       "0900-0959     28077  4736  0.168679\n",
       "0800-0859     32037  4922  0.153635\n",
       "0700-0759     33577  3933  0.117134\n",
       "0600-0659     36145  3256  0.090082\n",
       "0001-0559     13213  1176  0.089003"
      ]
     },
     "execution_count": 390,
     "metadata": {},
     "output_type": "execute_result"
    }
   ],
   "source": [
    "df_tb = df18.groupby(['DEP_TIME_BLK']).DEP_DEL15.value_counts().unstack()\n",
    "df_tb['ratio'] = (df_tb[1]/df_tb[0])\n",
    "df_tb.sort_values('ratio', ascending=False)"
   ]
  },
  {
   "cell_type": "markdown",
   "metadata": {},
   "source": [
    "**Conclusion**: I can conclude that Day 3(Wednesday) of week have relatively low ratio of delay, whereas Day 1(Monday) shows the highest departure delay. Most delays occur in 1700-1759 Blk. 1900-1959 has the greatest ratio of delay.\n",
    "\n",
    "Possibility for departure delay is high during 6pm - 10pm"
   ]
  },
  {
   "cell_type": "markdown",
   "metadata": {},
   "source": [
    "## Modeling"
   ]
  },
  {
   "cell_type": "markdown",
   "metadata": {},
   "source": [
    "Creating Test and Train datasets:"
   ]
  },
  {
   "cell_type": "code",
   "execution_count": 428,
   "metadata": {},
   "outputs": [],
   "source": [
    "from sklearn.metrics import accuracy_score,confusion_matrix\n",
    "from sklearn.preprocessing import LabelEncoder\n",
    "from sklearn.model_selection import train_test_split , GridSearchCV\n",
    "from sklearn.ensemble import RandomForestClassifier\n",
    "from sklearn.tree import DecisionTreeClassifier\n",
    "from sklearn.ensemble import GradientBoostingClassifier"
   ]
  },
  {
   "cell_type": "markdown",
   "metadata": {},
   "source": [
    "Before starting the modeling, I checked first the targeted variable to see if the data are biased or not"
   ]
  },
  {
   "cell_type": "code",
   "execution_count": 392,
   "metadata": {
    "scrolled": true
   },
   "outputs": [
    {
     "data": {
      "text/plain": [
       "0.0    453644\n",
       "1.0     99151\n",
       "Name: DEP_DEL15, dtype: int64"
      ]
     },
     "execution_count": 392,
     "metadata": {},
     "output_type": "execute_result"
    }
   ],
   "source": [
    "jan18[\"DEP_DEL15\"].value_counts()"
   ]
  },
  {
   "cell_type": "markdown",
   "metadata": {},
   "source": [
    "As you can see above, the data are quite biased because not delayed flight data are far more than the delayed flight data. This will cause problems during training the data. So, I balanced the data.  "
   ]
  },
  {
   "cell_type": "code",
   "execution_count": 393,
   "metadata": {},
   "outputs": [],
   "source": [
    "df18_Jan_0 = jan18[jan18.DEP_DEL15==0].sample(n=99000) # Extract 8000 rows with no delay randomly\n",
    "df18_Jan_1 = jan18[jan18.DEP_DEL15==1].sample(n=99000) # Extract 8000 rows with delay randomly\n",
    "df18_Jan_Balanced = df18_Jan_0.append(df18_Jan_1) # Combine the df, with delay and without delay\n",
    "df18_Jan_Balanced = df18_Jan_Balanced.sample(frac = 1) # Shuffle the rows of the combined df"
   ]
  },
  {
   "cell_type": "code",
   "execution_count": 394,
   "metadata": {},
   "outputs": [],
   "source": [
    "#Save the cleaned dataset\n",
    "#df18_Jan_Balanced.to_csv(\"df18_Jan_Balanced.csv\", index = False)"
   ]
  },
  {
   "cell_type": "code",
   "execution_count": 395,
   "metadata": {
    "scrolled": true
   },
   "outputs": [
    {
     "name": "stdout",
     "output_type": "stream",
     "text": [
      "<class 'pandas.core.frame.DataFrame'>\n",
      "RangeIndex: 198000 entries, 0 to 197999\n",
      "Data columns (total 15 columns):\n",
      " #   Column                 Non-Null Count   Dtype  \n",
      "---  ------                 --------------   -----  \n",
      " 0   MONTH                  198000 non-null  int64  \n",
      " 1   DAY                    198000 non-null  int64  \n",
      " 2   DAY_OF_WEEK            198000 non-null  int64  \n",
      " 3   OP_UNIQUE_CARRIER      198000 non-null  object \n",
      " 4   OP_CARRIER_AIRLINE_ID  198000 non-null  int64  \n",
      " 5   TAIL_NUM               198000 non-null  object \n",
      " 6   OP_CARRIER_FL_NUM      198000 non-null  int64  \n",
      " 7   ORIGIN_AIRPORT_ID      198000 non-null  int64  \n",
      " 8   ORIGIN                 198000 non-null  object \n",
      " 9   DEST_AIRPORT_ID        198000 non-null  int64  \n",
      " 10  DEST                   198000 non-null  object \n",
      " 11  DEP_TIME               198000 non-null  float64\n",
      " 12  DEP_DEL15              198000 non-null  float64\n",
      " 13  DEP_TIME_BLK           198000 non-null  object \n",
      " 14  DISTANCE               198000 non-null  float64\n",
      "dtypes: float64(3), int64(7), object(5)\n",
      "memory usage: 22.7+ MB\n"
     ]
    }
   ],
   "source": [
    "jan18=pd.read_csv(\"df18_Jan_Balanced.csv\")\n",
    "jan18.info()"
   ]
  },
  {
   "cell_type": "markdown",
   "metadata": {},
   "source": [
    "Some of the data types are in object forms. To handle that, I encoded all categories feature:"
   ]
  },
  {
   "cell_type": "code",
   "execution_count": 396,
   "metadata": {},
   "outputs": [],
   "source": [
    "def encode_categories(features):\n",
    "    lb_make = LabelEncoder()\n",
    "    for i in range(len(features)):\n",
    "        jan18[features[i]] = lb_make.fit_transform(jan18[features[i]])"
   ]
  },
  {
   "cell_type": "code",
   "execution_count": 397,
   "metadata": {
    "scrolled": false
   },
   "outputs": [
    {
     "name": "stdout",
     "output_type": "stream",
     "text": [
      "<class 'pandas.core.frame.DataFrame'>\n",
      "RangeIndex: 198000 entries, 0 to 197999\n",
      "Data columns (total 15 columns):\n",
      " #   Column                 Non-Null Count   Dtype  \n",
      "---  ------                 --------------   -----  \n",
      " 0   MONTH                  198000 non-null  int64  \n",
      " 1   DAY                    198000 non-null  int64  \n",
      " 2   DAY_OF_WEEK            198000 non-null  int64  \n",
      " 3   OP_UNIQUE_CARRIER      198000 non-null  int64  \n",
      " 4   OP_CARRIER_AIRLINE_ID  198000 non-null  int64  \n",
      " 5   TAIL_NUM               198000 non-null  int64  \n",
      " 6   OP_CARRIER_FL_NUM      198000 non-null  int64  \n",
      " 7   ORIGIN_AIRPORT_ID      198000 non-null  int64  \n",
      " 8   ORIGIN                 198000 non-null  int64  \n",
      " 9   DEST_AIRPORT_ID        198000 non-null  int64  \n",
      " 10  DEST                   198000 non-null  int64  \n",
      " 11  DEP_TIME               198000 non-null  float64\n",
      " 12  DEP_DEL15              198000 non-null  float64\n",
      " 13  DEP_TIME_BLK           198000 non-null  int64  \n",
      " 14  DISTANCE               198000 non-null  float64\n",
      "dtypes: float64(3), int64(12)\n",
      "memory usage: 22.7 MB\n"
     ]
    }
   ],
   "source": [
    "encode_categories(['OP_UNIQUE_CARRIER','TAIL_NUM','ORIGIN','DEST','DEP_TIME_BLK',])\n",
    "jan18.info()"
   ]
  },
  {
   "cell_type": "markdown",
   "metadata": {},
   "source": [
    "Now, splitting the data into train and test"
   ]
  },
  {
   "cell_type": "code",
   "execution_count": 398,
   "metadata": {},
   "outputs": [],
   "source": [
    "feature_names = ['MONTH','DAY','DAY_OF_WEEK','OP_UNIQUE_CARRIER','OP_CARRIER_AIRLINE_ID','TAIL_NUM','OP_CARRIER_FL_NUM','ORIGIN_AIRPORT_ID','ORIGIN','DEST_AIRPORT_ID','DEST','DEP_TIME_BLK', 'DISTANCE']\n",
    "X =  jan18[feature_names].values\n",
    "y =  jan18['DEP_DEL15'].values"
   ]
  },
  {
   "cell_type": "code",
   "execution_count": 399,
   "metadata": {},
   "outputs": [],
   "source": [
    "X_train, X_test, y_train, y_test = train_test_split(X, y, test_size=0.2, random_state=123)"
   ]
  },
  {
   "cell_type": "markdown",
   "metadata": {},
   "source": [
    "Now, I am ready to build the model. In this case, I chose Decision Tree, Gradient Boosting and Random Forest for modeling the datasets. "
   ]
  },
  {
   "cell_type": "markdown",
   "metadata": {},
   "source": [
    "### Model 1: Decision Tree"
   ]
  },
  {
   "cell_type": "markdown",
   "metadata": {},
   "source": [
    "Build Model"
   ]
  },
  {
   "cell_type": "code",
   "execution_count": 400,
   "metadata": {
    "scrolled": true
   },
   "outputs": [
    {
     "data": {
      "text/plain": [
       "DecisionTreeClassifier(max_depth=2)"
      ]
     },
     "execution_count": 400,
     "metadata": {},
     "output_type": "execute_result"
    }
   ],
   "source": [
    "dt = DecisionTreeClassifier(max_depth=2)\n",
    "dt.fit(X_train,y_train)"
   ]
  },
  {
   "cell_type": "markdown",
   "metadata": {},
   "source": [
    "Check model accuracy "
   ]
  },
  {
   "cell_type": "code",
   "execution_count": 401,
   "metadata": {},
   "outputs": [
    {
     "name": "stdout",
     "output_type": "stream",
     "text": [
      "Decision Tree\n",
      "Training Accuracy:  0.6213573232323232\n",
      "Testing Accuracy:  0.6231818181818182\n"
     ]
    }
   ],
   "source": [
    "#Train Accuracy\n",
    "overfit_check = dt.predict(X_train)\n",
    "Train = accuracy_score(y_train, overfit_check)\n",
    "\n",
    "#Test Accuracy\n",
    "y_model = dt.predict(X_test)\n",
    "Test = accuracy_score(y_test, y_model)\n",
    "\n",
    "#Print Results:\n",
    "print(\"Decision Tree\")\n",
    "print(\"Training Accuracy: \", Train)\n",
    "print(\"Testing Accuracy: \", Test)"
   ]
  },
  {
   "cell_type": "code",
   "execution_count": 402,
   "metadata": {
    "scrolled": false
   },
   "outputs": [
    {
     "data": {
      "text/plain": [
       "<sklearn.metrics._plot.confusion_matrix.ConfusionMatrixDisplay at 0x7fc74e618c70>"
      ]
     },
     "execution_count": 402,
     "metadata": {},
     "output_type": "execute_result"
    },
    {
     "data": {
      "image/png": "[encoded data removed]",
      "text/plain": [
       "<Figure size 432x288 with 2 Axes>"
      ]
     },
     "metadata": {
      "needs_background": "light"
     },
     "output_type": "display_data"
    }
   ],
   "source": [
    "from sklearn.metrics import plot_confusion_matrix\n",
    "categories_name=[\"NOT DELAY\", \"DELAY\"]\n",
    "plot_confusion_matrix(dt, X_test, y_test,\n",
    "                                     display_labels=categories_name)"
   ]
  },
  {
   "cell_type": "markdown",
   "metadata": {},
   "source": [
    "Precision and Recall:"
   ]
  },
  {
   "cell_type": "code",
   "execution_count": 403,
   "metadata": {},
   "outputs": [
    {
     "name": "stdout",
     "output_type": "stream",
     "text": [
      "Avg Precision: 0.6272534738364585\n",
      "Avg Recall: 0.6117688548541488\n"
     ]
    }
   ],
   "source": [
    "precision = precision_score(y_test, y_model, average='binary')\n",
    "recall = recall_score(y_test, y_model, average='binary')\n",
    "print('Avg Precision:', precision)\n",
    "print('Avg Recall:', recall)"
   ]
  },
  {
   "cell_type": "code",
   "execution_count": 418,
   "metadata": {},
   "outputs": [
    {
     "data": {
      "image/png": "[encoded data removed]",
      "text/plain": [
       "<Figure size 1080x360 with 1 Axes>"
      ]
     },
     "metadata": {
      "needs_background": "light"
     },
     "output_type": "display_data"
    }
   ],
   "source": [
    "importances = dt.feature_importances_\n",
    "\n",
    "\n",
    "plt.figure(figsize=(15,5))\n",
    "plt.bar(range(X_train.shape[1]), importances[indices])\n",
    "plt.xticks(range(X_train.shape[1]), names, rotation=30, fontsize = 10)\n",
    "plt.title(\"Feature Importance\")\n",
    "plt.show()"
   ]
  },
  {
   "cell_type": "markdown",
   "metadata": {},
   "source": [
    "### Model 2: Gradient Boosting"
   ]
  },
  {
   "cell_type": "code",
   "execution_count": 405,
   "metadata": {
    "scrolled": true
   },
   "outputs": [
    {
     "data": {
      "text/plain": [
       "GradientBoostingClassifier()"
      ]
     },
     "execution_count": 405,
     "metadata": {},
     "output_type": "execute_result"
    }
   ],
   "source": [
    "gb = GradientBoostingClassifier()\n",
    "gb.fit(X_train,y_train)"
   ]
  },
  {
   "cell_type": "markdown",
   "metadata": {},
   "source": [
    "Check model accuracy"
   ]
  },
  {
   "cell_type": "code",
   "execution_count": 406,
   "metadata": {},
   "outputs": [
    {
     "name": "stdout",
     "output_type": "stream",
     "text": [
      "Gradient Boosting\n",
      "Training Accuracy:  0.6519255050505051\n",
      "Testing Accuracy:  0.6530050505050505\n"
     ]
    }
   ],
   "source": [
    "#Train Accuracy\n",
    "overfit_check = gb.predict(X_train)\n",
    "Train = accuracy_score(y_train, overfit_check)\n",
    "\n",
    "#Test Accuracy\n",
    "y_model = gb.predict(X_test)\n",
    "Test = accuracy_score(y_test, y_model)\n",
    "\n",
    "#Print Results:\n",
    "print(\"Gradient Boosting\")\n",
    "print(\"Training Accuracy: \", Train)\n",
    "print(\"Testing Accuracy: \", Test)"
   ]
  },
  {
   "cell_type": "markdown",
   "metadata": {},
   "source": [
    "Confusion Matrix"
   ]
  },
  {
   "cell_type": "code",
   "execution_count": 407,
   "metadata": {
    "scrolled": true
   },
   "outputs": [
    {
     "data": {
      "text/plain": [
       "<sklearn.metrics._plot.confusion_matrix.ConfusionMatrixDisplay at 0x7fc7bd83b430>"
      ]
     },
     "execution_count": 407,
     "metadata": {},
     "output_type": "execute_result"
    },
    {
     "data": {
      "image/png": "[encoded data removed]",
      "text/plain": [
       "<Figure size 432x288 with 2 Axes>"
      ]
     },
     "metadata": {
      "needs_background": "light"
     },
     "output_type": "display_data"
    }
   ],
   "source": [
    "from sklearn.metrics import plot_confusion_matrix\n",
    "categories_name=[\"NOT DELAY\", \"DELAY\"]\n",
    "plot_confusion_matrix(gb, X_test, y_test,\n",
    "                                     display_labels=categories_name)"
   ]
  },
  {
   "cell_type": "markdown",
   "metadata": {},
   "source": [
    "Precision and Recall:"
   ]
  },
  {
   "cell_type": "code",
   "execution_count": 408,
   "metadata": {},
   "outputs": [
    {
     "name": "stdout",
     "output_type": "stream",
     "text": [
      "Avg Precision: 0.6442607463391592\n",
      "Avg Recall: 0.6871378910776361\n"
     ]
    }
   ],
   "source": [
    "precision = precision_score(y_test, y_model, average='binary')\n",
    "recall = recall_score(y_test, y_model, average='binary')\n",
    "print('Avg Precision:', precision)\n",
    "print('Avg Recall:', recall)"
   ]
  },
  {
   "cell_type": "markdown",
   "metadata": {},
   "source": [
    "Feature Importance"
   ]
  },
  {
   "cell_type": "code",
   "execution_count": 417,
   "metadata": {},
   "outputs": [
    {
     "data": {
      "image/png": "[encoded data removed]",
      "text/plain": [
       "<Figure size 1080x360 with 1 Axes>"
      ]
     },
     "metadata": {
      "needs_background": "light"
     },
     "output_type": "display_data"
    }
   ],
   "source": [
    "importances = gb.feature_importances_\n",
    "\n",
    "\n",
    "plt.figure(figsize=(15,5))\n",
    "plt.bar(range(X_train.shape[1]), importances[indices])\n",
    "plt.xticks(range(X_train.shape[1]), names, rotation=30, fontsize = 10)\n",
    "plt.title(\"Feature Importance\")\n",
    "plt.show()"
   ]
  },
  {
   "cell_type": "markdown",
   "metadata": {},
   "source": [
    "### Model 3: Random Forest"
   ]
  },
  {
   "cell_type": "code",
   "execution_count": 424,
   "metadata": {
    "scrolled": true
   },
   "outputs": [
    {
     "data": {
      "text/plain": [
       "RandomForestClassifier(max_depth=26, min_samples_leaf=15, n_estimators=350,\n",
       "                       n_jobs=-1)"
      ]
     },
     "execution_count": 424,
     "metadata": {},
     "output_type": "execute_result"
    }
   ],
   "source": [
    "rf = RandomForestClassifier(n_estimators = 350,max_depth=26,min_samples_leaf=15,min_samples_split=2, n_jobs=-1)\n",
    "rf.fit(X_train,y_train)"
   ]
  },
  {
   "cell_type": "code",
   "execution_count": 425,
   "metadata": {},
   "outputs": [
    {
     "name": "stdout",
     "output_type": "stream",
     "text": [
      "Random Forest\n",
      "Training Accuracy:  0.7739583333333333\n",
      "Testing Accuracy:  0.6876262626262626\n"
     ]
    }
   ],
   "source": [
    "#Train Accuracy\n",
    "overfit_check = rf.predict(X_train)\n",
    "Train = accuracy_score(y_train, overfit_check)\n",
    "\n",
    "#Test Accuracy\n",
    "y_model = rf.predict(X_test)\n",
    "Test = accuracy_score(y_test, y_model)\n",
    "\n",
    "#Print Results:\n",
    "print(\"Random Forest\")\n",
    "print(\"Training Accuracy: \", Train)\n",
    "print(\"Testing Accuracy: \", Test)"
   ]
  },
  {
   "cell_type": "code",
   "execution_count": 426,
   "metadata": {
    "scrolled": false
   },
   "outputs": [
    {
     "data": {
      "text/plain": [
       "<sklearn.metrics._plot.confusion_matrix.ConfusionMatrixDisplay at 0x7fc7ae5c48e0>"
      ]
     },
     "execution_count": 426,
     "metadata": {},
     "output_type": "execute_result"
    },
    {
     "data": {
      "image/png": "[encoded data removed]",
      "text/plain": [
       "<Figure size 432x288 with 2 Axes>"
      ]
     },
     "metadata": {
      "needs_background": "light"
     },
     "output_type": "display_data"
    }
   ],
   "source": [
    "from sklearn.metrics import plot_confusion_matrix\n",
    "categories_name=[\"NOT DELAY\", \"DELAY\"]\n",
    "plot_confusion_matrix(rf, X_test, y_test,\n",
    "                                     display_labels=categories_name)"
   ]
  },
  {
   "cell_type": "markdown",
   "metadata": {},
   "source": [
    "Precision and Recall:"
   ]
  },
  {
   "cell_type": "code",
   "execution_count": 427,
   "metadata": {},
   "outputs": [
    {
     "name": "stdout",
     "output_type": "stream",
     "text": [
      "Avg Precision: 0.687848495504094\n",
      "Avg Recall: 0.6898584311552219\n"
     ]
    }
   ],
   "source": [
    "precision = precision_score(y_test, y_model, average='binary')\n",
    "recall = recall_score(y_test, y_model, average='binary')\n",
    "print('Avg Precision:', precision)\n",
    "print('Avg Recall:', recall)"
   ]
  },
  {
   "cell_type": "markdown",
   "metadata": {},
   "source": [
    "Feature importance"
   ]
  },
  {
   "cell_type": "code",
   "execution_count": 416,
   "metadata": {},
   "outputs": [
    {
     "data": {
      "image/png": "[encoded data removed]",
      "text/plain": [
       "<Figure size 1080x360 with 1 Axes>"
      ]
     },
     "metadata": {
      "needs_background": "light"
     },
     "output_type": "display_data"
    }
   ],
   "source": [
    "importances = rf.feature_importances_\n",
    "\n",
    "\n",
    "plt.figure(figsize=(15,5))\n",
    "plt.bar(range(X_train.shape[1]), importances[indices])\n",
    "plt.xticks(range(X_train.shape[1]), names, rotation=30, fontsize = 10)\n",
    "plt.title(\"Feature Importance\")\n",
    "plt.show()"
   ]
  },
  {
   "cell_type": "markdown",
   "metadata": {},
   "source": [
    "## Model Evaluation"
   ]
  },
  {
   "cell_type": "markdown",
   "metadata": {},
   "source": [
    "Looking at the accuracy and confusion matrix, we can immediately notice that **Random Forest model** is quite good in predicting non-delayed and delayed flights. For the non-delayed flight, 13537 are correctly predicted  and only 6214 falsely predicted observations. As for delayed flights, the model predicted  13693 delayed flights correctly with 6156 wrongly predicted observations. The prediction for both delayed and non-delayed flights are quite balanced where it recorded about leass than 50% of false prediction. "
   ]
  },
  {
   "cell_type": "markdown",
   "metadata": {},
   "source": [
    "To conclude the evaluation, the **Random Forest model** is chosen as the final best model. This is because:\n",
    "- The model has reasonably high average accuracy of 0.6876 compared to the other two models.\n",
    "- The average precision and recall for this model are 0.6878 and 0.6899 respectively which are acceptable.\n",
    "- The model has a **lower rate of False Negatives** compared to the other 2 models, which means this model **performs best at predicting delayed flights as delayed** . As shown in the confusion matrix, the model correctly predicts 13693 delayed flights as delayed and only 6156 delayed flights are wrongly predicted as not delayed.\n",
    "- In the flight delay problem, we want the False Negative rate of our final model to be as low as possible because in real life situation, falsely informing customers that a delayed flight is not delayed is much worse than predicting that a non-delayed flight is delayed."
   ]
  },
  {
   "cell_type": "markdown",
   "metadata": {},
   "source": [
    "- To answer the earlier questions, the prediction of flight delay can be evaluated through various machine learning models in which all of the show accuracy of more than 60%. \n",
    "- It was found that there is a correlation between flight informations and the probability of the flight being delayed. Based on the feature importance analysis on each of the tested machine learning algorithm, it is apparent that the DAY (day of flight departure) and DEP_TIME  demostrated as the top 2 variables with highest correlation on the probability of flight delay."
   ]
  },
  {
   "cell_type": "code",
   "execution_count": null,
   "metadata": {},
   "outputs": [],
   "source": []
  }
 ],
 "metadata": {
  "kernelspec": {
   "display_name": "Python 3",
   "language": "python",
   "name": "python3"
  },
  "language_info": {
   "codemirror_mode": {
    "name": "ipython",
    "version": 3
   },
   "file_extension": ".py",
   "mimetype": "text/x-python",
   "name": "python",
   "nbconvert_exporter": "python",
   "pygments_lexer": "ipython3",
   "version": "3.8.3"
  }
 },
 "nbformat": 4,
 "nbformat_minor": 4
}
